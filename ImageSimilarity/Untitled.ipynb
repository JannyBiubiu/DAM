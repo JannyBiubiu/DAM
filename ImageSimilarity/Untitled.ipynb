{
 "cells": [
  {
   "cell_type": "markdown",
   "metadata": {},
   "source": [
    "# 〇、 依赖项"
   ]
  },
  {
   "cell_type": "code",
   "execution_count": 38,
   "metadata": {
    "collapsed": true
   },
   "outputs": [],
   "source": [
    "import cv2\n",
    "import os\n",
    "import numpy as np\n",
    "from pandas import Series,DataFrame\n",
    "import pandas as pd"
   ]
  },
  {
   "cell_type": "markdown",
   "metadata": {},
   "source": [
    "# 一、特征\n",
    "## 1、hash算法——与像素点的位置相关\n",
    "### 1） 均值hash算法\n",
    "将图片转换为灰度图，将图片尺寸调整为8\\*8，计算平均值，根据均值获得图像指纹，即像素值大于均值的设为True，反之为False。"
   ]
  },
  {
   "cell_type": "code",
   "execution_count": 3,
   "metadata": {
    "collapsed": true
   },
   "outputs": [],
   "source": [
    "def aHash(img):\n",
    "\timg=cv2.cvtColor(img,cv2.COLOR_BGR2GRAY)\n",
    "\timg=cv2.resize(img,(8,8), interpolation=cv2.INTER_AREA) \n",
    "\tmeans=img.sum()/64\n",
    "\timg=np.where(img>means,True,False)\n",
    "\treturn img "
   ]
  },
  {
   "cell_type": "markdown",
   "metadata": {},
   "source": [
    "### 2）感知hash算法\n",
    "将图片转换为灰度图，将图片尺寸调整为32\\*32，做DCT变换，获取结果左上角尺寸为8\\*8的部分，根据均值获得图像指纹，即像素值大于均值的设为True，反之为False。"
   ]
  },
  {
   "cell_type": "code",
   "execution_count": 4,
   "metadata": {
    "collapsed": true
   },
   "outputs": [],
   "source": [
    "def pHash(img):\n",
    "\timg=cv2.cvtColor(img,cv2.COLOR_BGR2GRAY)\n",
    "\timg=cv2.resize(img,(32,32), interpolation=cv2.INTER_AREA) \n",
    "\timg= cv2.dct(np.float32(img))\n",
    "\timg = img[0:8,0:8] \n",
    "\tmeans=img.sum()/64\n",
    "\timg=np.where(img>means,True,False)\n",
    "\treturn img \t"
   ]
  },
  {
   "cell_type": "markdown",
   "metadata": {},
   "source": [
    "### 3）差值Hash算法\n",
    "比感知hash快，准确性理论上高于均值hash\n",
    "将图片转换为灰度图，将图片尺寸调整为9\\*8，除了最后一列像素，其他每个像素只要值比右边的像素小，则设为True，反之则为False"
   ]
  },
  {
   "cell_type": "code",
   "execution_count": 7,
   "metadata": {},
   "outputs": [],
   "source": [
    "def dHash(img):\n",
    "\timg=cv2.cvtColor(img,cv2.COLOR_BGR2GRAY)\n",
    "\timg=cv2.resize(img,(8,9), interpolation=cv2.INTER_AREA) \n",
    "\thash=np.zeros((8,8),dtype=bool)\n",
    "\tfor i in range(8):\n",
    "\t\tfor j in range(8):\n",
    "\t\t\tif img[i][j]<img[i+1][j]:\n",
    "\t\t\t\thash[i][j]=True\n",
    "\t\t\telse:\n",
    "\t\t\t\thash[i][j]=False\n",
    "\treturn hash"
   ]
  },
  {
   "cell_type": "markdown",
   "metadata": {},
   "source": [
    "## 2、颜色矩——统计结果，与色彩有关\n",
    "首先，将原图转换为YUV色彩空间，因为这更符合人眼的感知。\n",
    "分别计算各个通道的一阶矩，二阶矩，三阶矩，组成一个九维向量"
   ]
  },
  {
   "cell_type": "code",
   "execution_count": 8,
   "metadata": {
    "collapsed": true
   },
   "outputs": [],
   "source": [
    "def color_moment(img):\n",
    "\t[width,height,channel]=img.shape\n",
    "\t#YUV色彩空间，各个通道像素值统计\n",
    "\ty=Y_vector(img)\n",
    "\tu=U_vector(img)\n",
    "\tv=V_vector(img)\n",
    "\t#一阶矩，均值\n",
    "\tay=y.sum()/width/height\n",
    "\tau=u.sum()/width/height\n",
    "\tav=v.sum()/width/height\n",
    "\tby=0\n",
    "\tbu=0\n",
    "\tbv=0\n",
    "\tcy=0\n",
    "\tcu=0\n",
    "\tcv=0\n",
    "\t#计算二阶矩和三阶矩\n",
    "\tfor i in range(256):\n",
    "\t\tby=by+(i-ay)**2/width/height*y[i]\n",
    "\t\tbu=bu+(i-au)**2/width/height*u[i]\n",
    "\t\tbv=bv+(i-av)**2/width/height*v[i]\n",
    "\t\tcy=cy+(i-ay)**3/width/height*y[i]\n",
    "\t\tcu=cu+(i-au)**3/width/height*u[i]\n",
    "\t\tcv=cv+(i-av)**3/width/height*v[i]\n",
    "\tby=by**0.5\n",
    "\tbu=bu**0.5\n",
    "\tbv=bv**0.5\n",
    "\tcy=cy**(1/3)\n",
    "\tcu=cu**(1/3)\n",
    "\tcv=cv**(1/3)\n",
    "\t#将YUV三通道的三种矩组成一个九维向量\n",
    "\tvector=np.zeros(9)\n",
    "\tvector[0]=ay\n",
    "\tvector[1]=by\n",
    "\tvector[2]=cy\n",
    "\tvector[3]=au\n",
    "\tvector[4]=bu\n",
    "\tvector[5]=cu\n",
    "\tvector[6]=av\n",
    "\tvector[7]=bv\n",
    "\tvector[8]=cv\n",
    "\treturn vector"
   ]
  },
  {
   "cell_type": "markdown",
   "metadata": {},
   "source": [
    "### Y通道像素值统计\t"
   ]
  },
  {
   "cell_type": "code",
   "execution_count": 16,
   "metadata": {
    "collapsed": true
   },
   "outputs": [],
   "source": [
    "def Y_vector(img):\n",
    "\timg=cv2.cvtColor(img,cv2.COLOR_BGR2YUV)\n",
    "\timg=img[:,:,0]\n",
    "\t[width,height]=img.shape\n",
    "\tv=np.zeros(256)\n",
    "\tfor i in range(width):\n",
    "\t\tfor j in range(height):\n",
    "\t\t\tp=img[i,j]\n",
    "\t\t\tv[p]=v[p]+1/width/height\n",
    "\treturn v"
   ]
  },
  {
   "cell_type": "markdown",
   "metadata": {},
   "source": [
    "### U通道像素值统计"
   ]
  },
  {
   "cell_type": "code",
   "execution_count": 17,
   "metadata": {
    "collapsed": true
   },
   "outputs": [],
   "source": [
    "def U_vector(img):\n",
    "\timg=cv2.cvtColor(img,cv2.COLOR_BGR2YUV)\n",
    "\timg=img[:,:,1]\n",
    "\t[width,height]=img.shape\n",
    "\tv=np.zeros(256)\n",
    "\tfor i in range(width):\n",
    "\t\tfor j in range(height):\n",
    "\t\t\tp=img[i,j]\n",
    "\t\t\tv[p]=v[p]+1/width/height\n",
    "\treturn v"
   ]
  },
  {
   "cell_type": "markdown",
   "metadata": {},
   "source": [
    "### V通道像素值统计"
   ]
  },
  {
   "cell_type": "code",
   "execution_count": 11,
   "metadata": {
    "collapsed": true
   },
   "outputs": [],
   "source": [
    "def V_vector(img):\n",
    "\timg=cv2.cvtColor(img,cv2.COLOR_BGR2YUV)\n",
    "\timg=img[:,:,2]\n",
    "\t[width,height]=img.shape\n",
    "\tv=np.zeros(256)\n",
    "\tfor i in range(width):\n",
    "\t\tfor j in range(height):\n",
    "\t\t\tp=img[i,j]\n",
    "\t\t\tv[p]=v[p]+1/width/height\n",
    "\treturn v"
   ]
  },
  {
   "cell_type": "markdown",
   "metadata": {},
   "source": [
    "## 3、灰度直方图——统计结果，与色彩无关\n",
    "获得一个256维向量"
   ]
  },
  {
   "cell_type": "code",
   "execution_count": 12,
   "metadata": {
    "collapsed": true
   },
   "outputs": [],
   "source": [
    "def grey_vector(img):\n",
    "\timg=cv2.cvtColor(img,cv2.COLOR_BGR2GRAY)\n",
    "\t[width,height]=img.shape\n",
    "\tv=np.zeros(256)\n",
    "\tfor i in range(width):\n",
    "\t\tfor j in range(height):\n",
    "\t\t\tp=img[i,j]\n",
    "\t\t\tv[p]=v[p]+1/width/height\n",
    "\treturn v"
   ]
  },
  {
   "cell_type": "markdown",
   "metadata": {},
   "source": [
    "# 二、相似度衡量\n",
    "## 1、向量的余弦相似度"
   ]
  },
  {
   "cell_type": "code",
   "execution_count": 13,
   "metadata": {
    "collapsed": true
   },
   "outputs": [],
   "source": [
    "def cos_similarity(v1,v2):\n",
    "\tif v1.shape!=v2.shape:\n",
    "\t\treturn False\n",
    "\tsimilarity=np.dot(v1,v2)/np.linalg.norm(v1)/np.linalg.norm(v2)\n",
    "\treturn similarity"
   ]
  },
  {
   "cell_type": "markdown",
   "metadata": {},
   "source": [
    "## 2、向量的闵科夫斯基相似度\n",
    "当p值为1时，结果为曼哈顿距离；为2时，结果为欧式距离"
   ]
  },
  {
   "cell_type": "code",
   "execution_count": 18,
   "metadata": {
    "collapsed": true
   },
   "outputs": [],
   "source": [
    "def Minkowski_similarity(v1,v2,p):\n",
    "\tif v1.shape!=v2.shape:\n",
    "\t\treturn False\n",
    "\tsimilarity=(abs(v1-v2)**p).sum()**(1/p)\n",
    "\treturn similarity"
   ]
  },
  {
   "cell_type": "markdown",
   "metadata": {},
   "source": [
    "## 3、汉明距离\n",
    "仅适用于hash算法\n",
    "对两个向量的每位取异或，统计结果的True的数量，用来表示两个二值向量的相似度"
   ]
  },
  {
   "cell_type": "code",
   "execution_count": 15,
   "metadata": {
    "collapsed": true
   },
   "outputs": [],
   "source": [
    "def hamming(v1,v2):\n",
    "\tif v1.shape!=v2.shape:\n",
    "\t\treturn False\n",
    "\tv3=v1^v2\n",
    "\td=0\n",
    "\tfor index in v3:\n",
    "\t\tfor i in index:\n",
    "\t\t\tif i:\n",
    "\t\t\t\td=d+1\n",
    "\treturn d"
   ]
  },
  {
   "cell_type": "markdown",
   "metadata": {},
   "source": [
    "# 三、运行"
   ]
  },
  {
   "cell_type": "code",
   "execution_count": 36,
   "metadata": {},
   "outputs": [],
   "source": [
    "img=cv2.imread(\"./img/1.jpg\",cv2.IMREAD_COLOR) \n",
    "u1=aHash(img)\n",
    "u2=pHash(img)\n",
    "u3=dHash(img)\n",
    "u4=color_moment(img)\n",
    "u5=grey_vector(img)\n",
    "root = \".\\\\img\"\n",
    "result={\"file_name\":[],\"ahash\":[],\"phash\":[],\"dhash\":[],\"color_cos\":[],\"color_Euclid\":[],\"color_man\":[],\"grey_cos\":[],\"grey_Euclid\":[],\"grey_man\":[]}\n",
    "for dirpath, dirnames, filenames in os.walk(root):\n",
    "\tfor filepath in filenames:\n",
    "\t\tname=os.path.join(dirpath, filepath)\n",
    "\t\timg2=cv2.imread(name,cv2.IMREAD_COLOR)\n",
    "\t\tv1=aHash(img2)\n",
    "\t\tv2=pHash(img2)\n",
    "\t\tv3=dHash(img2)\n",
    "\t\tv4=color_moment(img2)\n",
    "\t\tv5=grey_vector(img2)\n",
    "\t\tresult[\"file_name\"].append(name)\n",
    "\t\tresult[\"ahash\"].append(hamming(u1,v1))\n",
    "\t\tresult[\"phash\"].append(hamming(u2,v2))\n",
    "\t\tresult[\"dhash\"].append(hamming(u3,v3))\n",
    "\t\tresult[\"color_cos\"].append(cos_similarity(u4,v4))\n",
    "\t\tresult[\"grey_cos\"].append(cos_similarity(u5,v5))\n",
    "\t\tresult[\"color_Euclid\"].append(Minkowski_similarity(u4,v4,2))\n",
    "\t\tresult[\"grey_Euclid\"].append(Minkowski_similarity(u5,v5,2))\n",
    "\t\tresult[\"color_man\"].append(Minkowski_similarity(u4,v4,1))\n",
    "\t\tresult[\"grey_man\"].append(Minkowski_similarity(u5,v5,1))\n",
    "df = DataFrame(result)"
   ]
  },
  {
   "cell_type": "code",
   "execution_count": 37,
   "metadata": {},
   "outputs": [
    {
     "data": {
      "text/html": [
       "<div>\n",
       "<style>\n",
       "    .dataframe thead tr:only-child th {\n",
       "        text-align: right;\n",
       "    }\n",
       "\n",
       "    .dataframe thead th {\n",
       "        text-align: left;\n",
       "    }\n",
       "\n",
       "    .dataframe tbody tr th {\n",
       "        vertical-align: top;\n",
       "    }\n",
       "</style>\n",
       "<table border=\"1\" class=\"dataframe\">\n",
       "  <thead>\n",
       "    <tr style=\"text-align: right;\">\n",
       "      <th></th>\n",
       "      <th>ahash</th>\n",
       "      <th>color_Euclid</th>\n",
       "      <th>color_cos</th>\n",
       "      <th>color_man</th>\n",
       "      <th>dhash</th>\n",
       "      <th>file_name</th>\n",
       "      <th>grey_Euclid</th>\n",
       "      <th>grey_cos</th>\n",
       "      <th>grey_man</th>\n",
       "      <th>phash</th>\n",
       "    </tr>\n",
       "  </thead>\n",
       "  <tbody>\n",
       "    <tr>\n",
       "      <th>0</th>\n",
       "      <td>0</td>\n",
       "      <td>0.000000</td>\n",
       "      <td>1.000000</td>\n",
       "      <td>0.000000</td>\n",
       "      <td>0</td>\n",
       "      <td>.\\img\\1.jpg</td>\n",
       "      <td>0.000000</td>\n",
       "      <td>1.000000</td>\n",
       "      <td>0.000000</td>\n",
       "      <td>0</td>\n",
       "    </tr>\n",
       "    <tr>\n",
       "      <th>1</th>\n",
       "      <td>17</td>\n",
       "      <td>1.300273</td>\n",
       "      <td>0.991472</td>\n",
       "      <td>2.060728</td>\n",
       "      <td>24</td>\n",
       "      <td>.\\img\\10.jpg</td>\n",
       "      <td>0.088253</td>\n",
       "      <td>0.985189</td>\n",
       "      <td>0.536835</td>\n",
       "      <td>10</td>\n",
       "    </tr>\n",
       "    <tr>\n",
       "      <th>2</th>\n",
       "      <td>8</td>\n",
       "      <td>1.125511</td>\n",
       "      <td>0.998970</td>\n",
       "      <td>2.059242</td>\n",
       "      <td>13</td>\n",
       "      <td>.\\img\\2.jpg</td>\n",
       "      <td>0.170348</td>\n",
       "      <td>0.994870</td>\n",
       "      <td>0.823096</td>\n",
       "      <td>10</td>\n",
       "    </tr>\n",
       "    <tr>\n",
       "      <th>3</th>\n",
       "      <td>15</td>\n",
       "      <td>0.805074</td>\n",
       "      <td>0.995285</td>\n",
       "      <td>1.195058</td>\n",
       "      <td>23</td>\n",
       "      <td>.\\img\\3.jpg</td>\n",
       "      <td>0.414277</td>\n",
       "      <td>0.675938</td>\n",
       "      <td>1.358062</td>\n",
       "      <td>13</td>\n",
       "    </tr>\n",
       "    <tr>\n",
       "      <th>4</th>\n",
       "      <td>8</td>\n",
       "      <td>1.213637</td>\n",
       "      <td>0.993331</td>\n",
       "      <td>2.198481</td>\n",
       "      <td>14</td>\n",
       "      <td>.\\img\\4.jpg</td>\n",
       "      <td>0.533130</td>\n",
       "      <td>0.067028</td>\n",
       "      <td>1.054340</td>\n",
       "      <td>11</td>\n",
       "    </tr>\n",
       "    <tr>\n",
       "      <th>5</th>\n",
       "      <td>15</td>\n",
       "      <td>0.730360</td>\n",
       "      <td>0.998133</td>\n",
       "      <td>1.270174</td>\n",
       "      <td>30</td>\n",
       "      <td>.\\img\\5.jpg</td>\n",
       "      <td>0.493159</td>\n",
       "      <td>0.044561</td>\n",
       "      <td>1.591107</td>\n",
       "      <td>11</td>\n",
       "    </tr>\n",
       "    <tr>\n",
       "      <th>6</th>\n",
       "      <td>14</td>\n",
       "      <td>1.712708</td>\n",
       "      <td>0.998500</td>\n",
       "      <td>3.321663</td>\n",
       "      <td>25</td>\n",
       "      <td>.\\img\\6.jpg</td>\n",
       "      <td>0.057893</td>\n",
       "      <td>0.998375</td>\n",
       "      <td>0.311428</td>\n",
       "      <td>13</td>\n",
       "    </tr>\n",
       "    <tr>\n",
       "      <th>7</th>\n",
       "      <td>13</td>\n",
       "      <td>0.695796</td>\n",
       "      <td>0.997877</td>\n",
       "      <td>1.343188</td>\n",
       "      <td>17</td>\n",
       "      <td>.\\img\\7.jpg</td>\n",
       "      <td>0.481508</td>\n",
       "      <td>0.134637</td>\n",
       "      <td>0.980957</td>\n",
       "      <td>13</td>\n",
       "    </tr>\n",
       "    <tr>\n",
       "      <th>8</th>\n",
       "      <td>44</td>\n",
       "      <td>0.915988</td>\n",
       "      <td>0.987954</td>\n",
       "      <td>1.672933</td>\n",
       "      <td>47</td>\n",
       "      <td>.\\img\\8.jpg</td>\n",
       "      <td>0.486540</td>\n",
       "      <td>0.067507</td>\n",
       "      <td>1.236686</td>\n",
       "      <td>21</td>\n",
       "    </tr>\n",
       "    <tr>\n",
       "      <th>9</th>\n",
       "      <td>44</td>\n",
       "      <td>2.125764</td>\n",
       "      <td>0.851835</td>\n",
       "      <td>2.828300</td>\n",
       "      <td>31</td>\n",
       "      <td>.\\img\\9.jpg</td>\n",
       "      <td>0.548195</td>\n",
       "      <td>0.005336</td>\n",
       "      <td>1.703660</td>\n",
       "      <td>32</td>\n",
       "    </tr>\n",
       "  </tbody>\n",
       "</table>\n",
       "</div>"
      ],
      "text/plain": [
       "   ahash  color_Euclid  color_cos  color_man  dhash     file_name  \\\n",
       "0      0      0.000000   1.000000   0.000000      0   .\\img\\1.jpg   \n",
       "1     17      1.300273   0.991472   2.060728     24  .\\img\\10.jpg   \n",
       "2      8      1.125511   0.998970   2.059242     13   .\\img\\2.jpg   \n",
       "3     15      0.805074   0.995285   1.195058     23   .\\img\\3.jpg   \n",
       "4      8      1.213637   0.993331   2.198481     14   .\\img\\4.jpg   \n",
       "5     15      0.730360   0.998133   1.270174     30   .\\img\\5.jpg   \n",
       "6     14      1.712708   0.998500   3.321663     25   .\\img\\6.jpg   \n",
       "7     13      0.695796   0.997877   1.343188     17   .\\img\\7.jpg   \n",
       "8     44      0.915988   0.987954   1.672933     47   .\\img\\8.jpg   \n",
       "9     44      2.125764   0.851835   2.828300     31   .\\img\\9.jpg   \n",
       "\n",
       "   grey_Euclid  grey_cos  grey_man  phash  \n",
       "0     0.000000  1.000000  0.000000      0  \n",
       "1     0.088253  0.985189  0.536835     10  \n",
       "2     0.170348  0.994870  0.823096     10  \n",
       "3     0.414277  0.675938  1.358062     13  \n",
       "4     0.533130  0.067028  1.054340     11  \n",
       "5     0.493159  0.044561  1.591107     11  \n",
       "6     0.057893  0.998375  0.311428     13  \n",
       "7     0.481508  0.134637  0.980957     13  \n",
       "8     0.486540  0.067507  1.236686     21  \n",
       "9     0.548195  0.005336  1.703660     32  "
      ]
     },
     "execution_count": 37,
     "metadata": {},
     "output_type": "execute_result"
    }
   ],
   "source": [
    "df"
   ]
  },
  {
   "cell_type": "markdown",
   "metadata": {},
   "source": [
    "# 四、结果分析\n",
    "注：图片`1.jpg`就是被比较的图片\n",
    "## 1、各个结果中最相似图片分别为：\n",
    "|均值hash|感知hash|差值hash|颜色矩-余弦相似度|颜色矩-欧式距离|颜色矩-曼哈顿距离|灰度-余弦相似度|灰度-欧式距离|灰度-曼哈顿距离|\n",
    "|-|-|-|-|-|-|-|-|-|\n",
    "|2、4|2、10|2|2|7|3|6|6|6|"
   ]
  },
  {
   "cell_type": "markdown",
   "metadata": {},
   "source": [
    "## 2、 分析\n",
    "- 结合各个结果，2号图片和6号图片均与1号图片较为相似。\n",
    "\n",
    "1号图片：![img](./img/1.jpg)2号图片：![img](./img/2.jpg)6号图片：![img](./img/6.jpg)\n",
    "\n",
    "- hash算法都指向了2号图片，因为这两种算法考虑了空间关系\n",
    "- 灰度直方图的方法都指向了6号图片，是因为这张图片的灰度统计量和1号图片相似，但是对于人眼来说，这种统计评价方法并不直观\n",
    "- 颜色矩的方法，在采用不同相似度比较方法时，结果迥异，甚至将3号图片（颜色矩-曼哈顿距离）选中（虽然3号图片的质感和1号图片十分相似）![img](./img/3.jpg)\n",
    "- 感知hash出现了一个很离奇的结果，10号图片![img](./img/10.jpg)\n",
    "可能是因为10号图片的低频信息和1号图片很接近，但依然对于人眼来说不直观"
   ]
  },
  {
   "cell_type": "markdown",
   "metadata": {},
   "source": [
    "### 3、总结\n",
    "本次实验观察了五种图像信息，用了四种向量（矩阵）相似度的比较方法。\n",
    "最后总体结果还是比较理想的。但还是缺少一个策略，将这些方法综合起来应用，因为缺少一个图片比较的目标。"
   ]
  }
 ],
 "metadata": {
  "kernelspec": {
   "display_name": "Python 3",
   "language": "python",
   "name": "python3"
  },
  "language_info": {
   "codemirror_mode": {
    "name": "ipython",
    "version": 3
   },
   "file_extension": ".py",
   "mimetype": "text/x-python",
   "name": "python",
   "nbconvert_exporter": "python",
   "pygments_lexer": "ipython3",
   "version": "3.6.2"
  }
 },
 "nbformat": 4,
 "nbformat_minor": 2
}
